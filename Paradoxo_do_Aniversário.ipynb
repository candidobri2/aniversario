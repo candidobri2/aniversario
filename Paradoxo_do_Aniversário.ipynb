{
  "nbformat": 4,
  "nbformat_minor": 0,
  "metadata": {
    "colab": {
      "name": "Paradoxo do Aniversário",
      "provenance": [],
      "authorship_tag": "ABX9TyOxaGSpDHQ31CK4lBkoHPn/",
      "include_colab_link": true
    },
    "kernelspec": {
      "name": "python3",
      "display_name": "Python 3"
    }
  },
  "cells": [
    {
      "cell_type": "markdown",
      "metadata": {
        "id": "view-in-github",
        "colab_type": "text"
      },
      "source": [
        "<a href=\"https://colab.research.google.com/github/candidobri2/aniversario/blob/main/Paradoxo_do_Anivers%C3%A1rio.ipynb\" target=\"_parent\"><img src=\"https://colab.research.google.com/assets/colab-badge.svg\" alt=\"Open In Colab\"/></a>"
      ]
    },
    {
      "cell_type": "markdown",
      "metadata": {
        "id": "Dz9i9tKXLrAx"
      },
      "source": [
        "## Paradoxo do Aniversário usando listas\n"
      ]
    },
    {
      "cell_type": "code",
      "metadata": {
        "id": "9Jun6SYjLxnI"
      },
      "source": [
        "import random as rd"
      ],
      "execution_count": null,
      "outputs": []
    },
    {
      "cell_type": "code",
      "metadata": {
        "id": "jLknGDZ0_7qw"
      },
      "source": [
        "def aniversario_de_x_pessoas(x):\n",
        "  lista_inicial=[]\n",
        "  for i in range(x):\n",
        "    lista_inicial.append(str(rd.randint(1,30))+str(rd.randint(1,12)))\n",
        "  return lista_inicial\n"
      ],
      "execution_count": null,
      "outputs": []
    },
    {
      "cell_type": "code",
      "metadata": {
        "colab": {
          "base_uri": "https://localhost:8080/"
        },
        "id": "OcZHTwtnAO2y",
        "outputId": "1a9a7658-eda3-4579-8ab7-f64e2902be88"
      },
      "source": [
        "dados=aniversario_de_x_pessoas(50)\n",
        "dados"
      ],
      "execution_count": null,
      "outputs": [
        {
          "output_type": "execute_result",
          "data": {
            "text/plain": [
              "['2511',\n",
              " '16',\n",
              " '63',\n",
              " '67',\n",
              " '2112',\n",
              " '810',\n",
              " '2910',\n",
              " '110',\n",
              " '218',\n",
              " '13',\n",
              " '56',\n",
              " '169',\n",
              " '241',\n",
              " '47',\n",
              " '224',\n",
              " '299',\n",
              " '64',\n",
              " '183',\n",
              " '115',\n",
              " '139',\n",
              " '238',\n",
              " '75',\n",
              " '274',\n",
              " '2511',\n",
              " '117',\n",
              " '1610',\n",
              " '199',\n",
              " '101',\n",
              " '1110',\n",
              " '302',\n",
              " '152',\n",
              " '95',\n",
              " '148',\n",
              " '229',\n",
              " '139',\n",
              " '912',\n",
              " '42',\n",
              " '162',\n",
              " '295',\n",
              " '129',\n",
              " '222',\n",
              " '258',\n",
              " '257',\n",
              " '106',\n",
              " '176',\n",
              " '63',\n",
              " '247',\n",
              " '63',\n",
              " '15',\n",
              " '199']"
            ]
          },
          "metadata": {
            "tags": []
          },
          "execution_count": 89
        }
      ]
    },
    {
      "cell_type": "code",
      "metadata": {
        "colab": {
          "base_uri": "https://localhost:8080/"
        },
        "id": "Kj3PhB7lBngW",
        "outputId": "99d53c07-2364-4ac2-b4e7-a89656fa4424"
      },
      "source": [
        "len(dados)"
      ],
      "execution_count": null,
      "outputs": [
        {
          "output_type": "execute_result",
          "data": {
            "text/plain": [
              "50"
            ]
          },
          "metadata": {
            "tags": []
          },
          "execution_count": 36
        }
      ]
    },
    {
      "cell_type": "code",
      "metadata": {
        "id": "U8avTG0lBoUX"
      },
      "source": [
        "def numero_de_simulacoes(simu,qtd):\n",
        "  acum=0\n",
        "  for i in range(simu):\n",
        "    a=aniversario_de_x_pessoas(qtd)\n",
        "    if len(a)!=len(set(a)):\n",
        "          acum=acum+1\n",
        "  return acum/simu\n",
        "    \n",
        "      \n",
        "   \n"
      ],
      "execution_count": null,
      "outputs": []
    },
    {
      "cell_type": "code",
      "metadata": {
        "colab": {
          "base_uri": "https://localhost:8080/"
        },
        "id": "zm7Qye6MEpwQ",
        "outputId": "d1e930e2-b0c3-4d31-91a0-8b79d7ec907f"
      },
      "source": [
        "numero_de_simulacoes(1000,23)"
      ],
      "execution_count": null,
      "outputs": [
        {
          "output_type": "execute_result",
          "data": {
            "text/plain": [
              "0.555"
            ]
          },
          "metadata": {
            "tags": []
          },
          "execution_count": 100
        }
      ]
    },
    {
      "cell_type": "code",
      "metadata": {
        "colab": {
          "base_uri": "https://localhost:8080/"
        },
        "id": "sdsrB6MGIJi8",
        "outputId": "911e67b8-485a-4768-80fc-75006f418949"
      },
      "source": [
        "estatistica=[]\n",
        "for i in range(50):\n",
        "  estatistica.append(numero_de_simulacoes(1000,i))\n",
        "estatistica"
      ],
      "execution_count": null,
      "outputs": [
        {
          "output_type": "execute_result",
          "data": {
            "text/plain": [
              "[0.0,\n",
              " 0.0,\n",
              " 0.005,\n",
              " 0.008,\n",
              " 0.017,\n",
              " 0.022,\n",
              " 0.036,\n",
              " 0.063,\n",
              " 0.067,\n",
              " 0.103,\n",
              " 0.131,\n",
              " 0.156,\n",
              " 0.161,\n",
              " 0.186,\n",
              " 0.232,\n",
              " 0.233,\n",
              " 0.301,\n",
              " 0.312,\n",
              " 0.356,\n",
              " 0.364,\n",
              " 0.419,\n",
              " 0.471,\n",
              " 0.485,\n",
              " 0.516,\n",
              " 0.545,\n",
              " 0.569,\n",
              " 0.614,\n",
              " 0.651,\n",
              " 0.657,\n",
              " 0.7,\n",
              " 0.733,\n",
              " 0.753,\n",
              " 0.767,\n",
              " 0.779,\n",
              " 0.796,\n",
              " 0.843,\n",
              " 0.843,\n",
              " 0.856,\n",
              " 0.885,\n",
              " 0.897,\n",
              " 0.898,\n",
              " 0.918,\n",
              " 0.919,\n",
              " 0.934,\n",
              " 0.934,\n",
              " 0.932,\n",
              " 0.954,\n",
              " 0.963,\n",
              " 0.965,\n",
              " 0.973]"
            ]
          },
          "metadata": {
            "tags": []
          },
          "execution_count": 103
        }
      ]
    },
    {
      "cell_type": "code",
      "metadata": {
        "id": "NOyzJUqUzZXI"
      },
      "source": [
        ""
      ],
      "execution_count": null,
      "outputs": []
    }
  ]
}